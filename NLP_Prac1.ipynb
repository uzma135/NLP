{
  "nbformat": 4,
  "nbformat_minor": 0,
  "metadata": {
    "colab": {
      "name": "NLP_Prac1.ipynb",
      "provenance": []
    },
    "kernelspec": {
      "name": "python3",
      "display_name": "Python 3"
    },
    "language_info": {
      "name": "python"
    }
  },
  "cells": [
    {
      "cell_type": "code",
      "execution_count": 1,
      "metadata": {
        "colab": {
          "base_uri": "https://localhost:8080/"
        },
        "id": "e8V5G71ro_ci",
        "outputId": "a3ec6597-bc4a-447a-8b90-226bca282590"
      },
      "outputs": [
        {
          "output_type": "stream",
          "name": "stdout",
          "text": [
            "Collecting gtts\n",
            "  Downloading gTTS-2.2.4-py3-none-any.whl (26 kB)\n",
            "Requirement already satisfied: requests in /usr/local/lib/python3.7/dist-packages (from gtts) (2.23.0)\n",
            "Requirement already satisfied: six in /usr/local/lib/python3.7/dist-packages (from gtts) (1.15.0)\n",
            "Requirement already satisfied: click in /usr/local/lib/python3.7/dist-packages (from gtts) (7.1.2)\n",
            "Requirement already satisfied: urllib3!=1.25.0,!=1.25.1,<1.26,>=1.21.1 in /usr/local/lib/python3.7/dist-packages (from requests->gtts) (1.24.3)\n",
            "Requirement already satisfied: chardet<4,>=3.0.2 in /usr/local/lib/python3.7/dist-packages (from requests->gtts) (3.0.4)\n",
            "Requirement already satisfied: certifi>=2017.4.17 in /usr/local/lib/python3.7/dist-packages (from requests->gtts) (2021.10.8)\n",
            "Requirement already satisfied: idna<3,>=2.5 in /usr/local/lib/python3.7/dist-packages (from requests->gtts) (2.10)\n",
            "Installing collected packages: gtts\n",
            "Successfully installed gtts-2.2.4\n"
          ]
        }
      ],
      "source": [
        "#a)Convert the given text to speech\n",
        "!pip install gtts"
      ]
    },
    {
      "cell_type": "code",
      "source": [
        "# import required for text to speech conversion\n",
        "from gtts import gTTS\n",
        "mytext = \"Welcome to Natural Language programming\"\n",
        "language = \"en\"\n",
        "myobj = gTTS(text=mytext, lang=language, slow=False)\n",
        "myobj.save(\"myfile.mp3\")"
      ],
      "metadata": {
        "id": "cSgJpGDGp5Gg"
      },
      "execution_count": 2,
      "outputs": []
    },
    {
      "cell_type": "code",
      "source": [
        "#b)Convert audio file Speech to Text\n",
        "!pip3 install SpeechRecognition pydub\n",
        "import speech_recognition as sr\n",
        "filename = \"/content/sample_data/machine-learning_speech-recognition_16-122828-0002.wav\"\n",
        "# initialize the recognizer\n",
        "r = sr.Recognizer()\n",
        "with sr.AudioFile(filename) as source:\n",
        "  # listen for the data (load audio to memory)\n",
        "  audio_data = r.record(source)\n",
        "  # recognize (convert from speech to text)\n",
        "  text = r.recognize_google(audio_data)\n",
        "  print(text)"
      ],
      "metadata": {
        "colab": {
          "base_uri": "https://localhost:8080/"
        },
        "id": "nha7cwQ_H9e-",
        "outputId": "1af88cc1-b18d-4492-a02a-09b07f8cb992"
      },
      "execution_count": 5,
      "outputs": [
        {
          "output_type": "stream",
          "name": "stdout",
          "text": [
            "Requirement already satisfied: SpeechRecognition in /usr/local/lib/python3.7/dist-packages (3.8.1)\n",
            "Requirement already satisfied: pydub in /usr/local/lib/python3.7/dist-packages (0.25.1)\n",
            "I believe you're just talking nonsense\n"
          ]
        }
      ]
    }
  ]
}